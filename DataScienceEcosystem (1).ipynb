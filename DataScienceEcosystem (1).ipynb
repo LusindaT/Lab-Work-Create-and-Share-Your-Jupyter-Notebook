{
 "cells": [
  {
   "cell_type": "markdown",
   "id": "9c07b210-e5ba-4939-91b9-947ce749ea99",
   "metadata": {},
   "source": [
    "# Data Science Tools and Ecosystem"
   ]
  },
  {
   "cell_type": "markdown",
   "id": "1ad601ec-a2b7-49c4-96fb-3a35a954f4c7",
   "metadata": {},
   "source": [
    "In this notebook, Data Science Tools and Ecosystem are summarized."
   ]
  },
  {
   "cell_type": "markdown",
   "id": "f79076e9-6543-45d1-9f28-4fc79e9a3df3",
   "metadata": {},
   "source": [
    "**Objectives:**\n",
    "* List of popular languages for Data Science\n",
    "* List of commonly used libraries\n",
    "* Table of Data Science Tools"
   ]
  },
  {
   "cell_type": "markdown",
   "id": "263126b0-e8c4-4766-94b8-69e8883f6f10",
   "metadata": {},
   "source": [
    "Some of the popular languages that Data Scientists use are:\n",
    "1. Python - general-purpose programming language\n",
    "2. R - programming language for statistical computing and data visualization\n",
    "3. SQL - programming language for storing and processing information in a relational database\n",
    "4. Java - object-oriented programming language "
   ]
  },
  {
   "cell_type": "markdown",
   "id": "08692733-7df7-4afa-a60b-6200de73487c",
   "metadata": {},
   "source": [
    "Some of the commonly used libraries used by Data Scientists include:\n",
    "1. pandas\n",
    "2. NumPy\n",
    "3. Matplotlib\n",
    "4. SciPy"
   ]
  },
  {
   "cell_type": "markdown",
   "id": "edf443eb-40ad-4ce7-a0e6-73d4aeceaae7",
   "metadata": {},
   "source": [
    "| Data Science Tools |\n",
    "  ------------------\n",
    "| Jupyter Notebook |\n",
    "| Apache Hadoop |\n",
    "| Apache Spark |"
   ]
  },
  {
   "cell_type": "markdown",
   "id": "f93d6f40-cb90-4e0f-b772-02cf6f780c47",
   "metadata": {},
   "source": [
    "### Below are a few examples of evaluating arithmetic expressions in Python"
   ]
  },
  {
   "cell_type": "code",
   "execution_count": null,
   "id": "315b9c95-ccc9-4a31-822a-c8c203167ca0",
   "metadata": {},
   "outputs": [],
   "source": []
  },
  {
   "cell_type": "markdown",
   "id": "cf845581-07e1-4494-82f8-517a5242d0b3",
   "metadata": {},
   "source": [
    "This a simple arithmetic expression to mutiply then add integers"
   ]
  },
  {
   "cell_type": "code",
   "execution_count": 26,
   "id": "5c092ac4-afac-4792-801d-fb22cc6fd51b",
   "metadata": {},
   "outputs": [
    {
     "data": {
      "text/plain": [
       "17"
      ]
     },
     "execution_count": 26,
     "metadata": {},
     "output_type": "execute_result"
    }
   ],
   "source": [
    "(3*4)+5"
   ]
  },
  {
   "cell_type": "markdown",
   "id": "b58fa439-2b7a-48fd-8284-f25f0e985453",
   "metadata": {},
   "source": [
    "This will convert 200 minutes to hours by dividing by 60"
   ]
  },
  {
   "cell_type": "code",
   "execution_count": 23,
   "id": "ff0a5984-6570-44ba-892f-20d7a7a03774",
   "metadata": {},
   "outputs": [
    {
     "data": {
      "text/plain": [
       "3.3333333333333335"
      ]
     },
     "execution_count": 23,
     "metadata": {},
     "output_type": "execute_result"
    }
   ],
   "source": [
    "200/60"
   ]
  },
  {
   "cell_type": "code",
   "execution_count": null,
   "id": "444cae98-06df-451b-939c-3a722ecce3ef",
   "metadata": {},
   "outputs": [],
   "source": []
  },
  {
   "cell_type": "markdown",
   "id": "08976dc0-2e82-4faf-a00a-b3d3db9eb0db",
   "metadata": {},
   "source": [
    "## Author\n",
    "Lusinda"
   ]
  },
  {
   "cell_type": "code",
   "execution_count": null,
   "id": "e4d441ad-7dd1-441f-b4c9-18f30aa3b1d0",
   "metadata": {},
   "outputs": [],
   "source": []
  }
 ],
 "metadata": {
  "kernelspec": {
   "display_name": "Python 3 (ipykernel)",
   "language": "python",
   "name": "python3"
  },
  "language_info": {
   "codemirror_mode": {
    "name": "ipython",
    "version": 3
   },
   "file_extension": ".py",
   "mimetype": "text/x-python",
   "name": "python",
   "nbconvert_exporter": "python",
   "pygments_lexer": "ipython3",
   "version": "3.11.7"
  }
 },
 "nbformat": 4,
 "nbformat_minor": 5
}
