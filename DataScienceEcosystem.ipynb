{
 "cells": [
  {
   "cell_type": "markdown",
   "id": "6532c0cd-5af1-498b-b502-ac56d5086e97",
   "metadata": {},
   "source": [
    "# Data Science Tools and Ecosystem"
   ]
  },
  {
   "cell_type": "markdown",
   "id": "23e30b6c-add9-4847-b944-d324f0b22a2c",
   "metadata": {},
   "source": [
    "In this notebook, Data Science Tools and Ecosystem are summarized."
   ]
  },
  {
   "cell_type": "markdown",
   "id": "91ff3fad-9af4-47f5-983e-8f7cdaf0a1c5",
   "metadata": {},
   "source": [
    "**Objectives:**\n",
    "* List of popular languages for Data Science\n",
    "* List of commonly used libraries\n",
    "* Table of Data Science Tools"
   ]
  },
  {
   "cell_type": "markdown",
   "id": "340c1da0-4e2a-4c79-9cab-39d913bc6951",
   "metadata": {},
   "source": [
    "Some of the popular languages that Data Scientists use are:\n",
    "1. Python - general-purpose programming language\n",
    "2. R - programming language for statistical computing and data visualization\n",
    "3. SQL - programming language for storing and processing information in a relational database\n",
    "4. Java - object-oriented programming language "
   ]
  },
  {
   "cell_type": "markdown",
   "id": "323dc2dd-bf2d-4825-95dd-b6fee6e2013b",
   "metadata": {},
   "source": [
    "Some of the commonly used libraries used by Data Scientists include:\n",
    "- pandas\n",
    "- NumPy\n",
    "- Matplotlib\n",
    "- SciPy"
   ]
  },
  {
   "cell_type": "markdown",
   "id": "d37c8489-9659-41f9-86df-911913470532",
   "metadata": {},
   "source": [
    "| Data Science Tools |\n",
    "  ------------------\n",
    "| Jupyter Notebook |\n",
    "| Apache Hadoop |\n",
    "| Apache Spark |"
   ]
  },
  {
   "cell_type": "markdown",
   "id": "ad995dc6-b5d7-4a69-bfa3-279114ebd399",
   "metadata": {},
   "source": [
    "### Below are a few examples of evaluating arithmetic expressions in Python"
   ]
  },
  {
   "cell_type": "markdown",
   "id": "cf845581-07e1-4494-82f8-517a5242d0b3",
   "metadata": {},
   "source": [
    "This a simple arithmetic expression to mutiply then add integers"
   ]
  },
  {
   "cell_type": "code",
   "execution_count": 20,
   "id": "5c092ac4-afac-4792-801d-fb22cc6fd51b",
   "metadata": {},
   "outputs": [
    {
     "data": {
      "text/plain": [
       "17"
      ]
     },
     "execution_count": 20,
     "metadata": {},
     "output_type": "execute_result"
    }
   ],
   "source": [
    "(3*4)+5"
   ]
  },
  {
   "cell_type": "markdown",
   "id": "8c6756e2-546e-4477-a1d5-175f5b8d8e8f",
   "metadata": {},
   "source": []
  },
  {
   "cell_type": "markdown",
   "id": "b58fa439-2b7a-48fd-8284-f25f0e985453",
   "metadata": {},
   "source": [
    "This will convert 200 minutes to hours by dividing by 60"
   ]
  },
  {
   "cell_type": "code",
   "execution_count": 21,
   "id": "ff0a5984-6570-44ba-892f-20d7a7a03774",
   "metadata": {},
   "outputs": [
    {
     "data": {
      "text/plain": [
       "3.3333333333333335"
      ]
     },
     "execution_count": 21,
     "metadata": {},
     "output_type": "execute_result"
    }
   ],
   "source": [
    "200/60"
   ]
  },
  {
   "cell_type": "code",
   "execution_count": null,
   "id": "444cae98-06df-451b-939c-3a722ecce3ef",
   "metadata": {},
   "outputs": [],
   "source": []
  },
  {
   "cell_type": "markdown",
   "id": "5d600bd9-7428-4cfa-b88c-0a0a129d7e04",
   "metadata": {},
   "source": [
    "## Author\n",
    "Lusinda"
   ]
  },
  {
   "cell_type": "code",
   "execution_count": null,
   "id": "e4d441ad-7dd1-441f-b4c9-18f30aa3b1d0",
   "metadata": {},
   "outputs": [],
   "source": []
  }
 ],
 "metadata": {
  "kernelspec": {
   "display_name": "Python 3 (ipykernel)",
   "language": "python",
   "name": "python3"
  },
  "language_info": {
   "codemirror_mode": {
    "name": "ipython",
    "version": 3
   },
   "file_extension": ".py",
   "mimetype": "text/x-python",
   "name": "python",
   "nbconvert_exporter": "python",
   "pygments_lexer": "ipython3",
   "version": "3.11.7"
  }
 },
 "nbformat": 4,
 "nbformat_minor": 5
}
